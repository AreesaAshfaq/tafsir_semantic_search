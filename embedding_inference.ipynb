{
  "nbformat": 4,
  "nbformat_minor": 0,
  "metadata": {
    "colab": {
      "provenance": [],
      "authorship_tag": "ABX9TyPVeUr0WRPtIev8Q2DfzMjb",
      "include_colab_link": true
    },
    "kernelspec": {
      "name": "python3",
      "display_name": "Python 3"
    },
    "language_info": {
      "name": "python"
    }
  },
  "cells": [
    {
      "cell_type": "markdown",
      "metadata": {
        "id": "view-in-github",
        "colab_type": "text"
      },
      "source": [
        "<a href=\"https://colab.research.google.com/github/misbahsy/tafsir_semantic_search/blob/main/embedding_inference.ipynb\" target=\"_parent\"><img src=\"https://colab.research.google.com/assets/colab-badge.svg\" alt=\"Open In Colab\"/></a>"
      ]
    },
    {
      "cell_type": "code",
      "execution_count": 1,
      "metadata": {
        "colab": {
          "base_uri": "https://localhost:8080/"
        },
        "id": "cJw01I7nM4LE",
        "outputId": "e040ea7a-f45f-46f7-ccbf-ccf062f46769"
      },
      "outputs": [
        {
          "output_type": "stream",
          "name": "stdout",
          "text": [
            "Looking in indexes: https://pypi.org/simple, https://us-python.pkg.dev/colab-wheels/public/simple/\n",
            "Collecting langchain\n",
            "  Downloading langchain-0.0.75-py3-none-any.whl (191 kB)\n",
            "\u001b[2K     \u001b[90m━━━━━━━━━━━━━━━━━━━━━━━━━━━━━━━━━━━━━━━\u001b[0m \u001b[32m191.5/191.5 KB\u001b[0m \u001b[31m2.3 MB/s\u001b[0m eta \u001b[36m0:00:00\u001b[0m\n",
            "\u001b[?25hCollecting cohere\n",
            "  Downloading cohere-3.2.6.tar.gz (11 kB)\n",
            "  Preparing metadata (setup.py) ... \u001b[?25l\u001b[?25hdone\n",
            "Collecting pinecone-client\n",
            "  Downloading pinecone_client-2.1.0-py3-none-any.whl (170 kB)\n",
            "\u001b[2K     \u001b[90m━━━━━━━━━━━━━━━━━━━━━━━━━━━━━━━━━━━━━━\u001b[0m \u001b[32m170.6/170.6 KB\u001b[0m \u001b[31m10.2 MB/s\u001b[0m eta \u001b[36m0:00:00\u001b[0m\n",
            "\u001b[?25hRequirement already satisfied: requests<3,>=2 in /usr/local/lib/python3.8/dist-packages (from langchain) (2.25.1)\n",
            "Requirement already satisfied: numpy<2,>=1 in /usr/local/lib/python3.8/dist-packages (from langchain) (1.21.6)\n",
            "Collecting dataclasses-json<0.6.0,>=0.5.7\n",
            "  Downloading dataclasses_json-0.5.7-py3-none-any.whl (25 kB)\n",
            "Requirement already satisfied: PyYAML<7,>=6 in /usr/local/lib/python3.8/dist-packages (from langchain) (6.0)\n",
            "Requirement already satisfied: SQLAlchemy<2,>=1 in /usr/local/lib/python3.8/dist-packages (from langchain) (1.4.46)\n",
            "Requirement already satisfied: pydantic<2,>=1 in /usr/local/lib/python3.8/dist-packages (from langchain) (1.10.4)\n",
            "Collecting urllib3~=1.26\n",
            "  Downloading urllib3-1.26.14-py2.py3-none-any.whl (140 kB)\n",
            "\u001b[2K     \u001b[90m━━━━━━━━━━━━━━━━━━━━━━━━━━━━━━━━━━━━━━━\u001b[0m \u001b[32m140.6/140.6 KB\u001b[0m \u001b[31m7.3 MB/s\u001b[0m eta \u001b[36m0:00:00\u001b[0m\n",
            "\u001b[?25hRequirement already satisfied: python-dateutil>=2.5.3 in /usr/local/lib/python3.8/dist-packages (from pinecone-client) (2.8.2)\n",
            "Collecting loguru>=0.5.0\n",
            "  Downloading loguru-0.6.0-py3-none-any.whl (58 kB)\n",
            "\u001b[2K     \u001b[90m━━━━━━━━━━━━━━━━━━━━━━━━━━━━━━━━━━━━━━━━\u001b[0m \u001b[32m58.3/58.3 KB\u001b[0m \u001b[31m3.4 MB/s\u001b[0m eta \u001b[36m0:00:00\u001b[0m\n",
            "\u001b[?25hRequirement already satisfied: typing-extensions>=3.7.4 in /usr/local/lib/python3.8/dist-packages (from pinecone-client) (4.4.0)\n",
            "Requirement already satisfied: dnspython>=2.0.0 in /usr/local/lib/python3.8/dist-packages (from pinecone-client) (2.2.1)\n",
            "Requirement already satisfied: tqdm>=4.64.1 in /usr/local/lib/python3.8/dist-packages (from pinecone-client) (4.64.1)\n",
            "Requirement already satisfied: marshmallow<4.0.0,>=3.3.0 in /usr/local/lib/python3.8/dist-packages (from dataclasses-json<0.6.0,>=0.5.7->langchain) (3.19.0)\n",
            "Collecting typing-inspect>=0.4.0\n",
            "  Downloading typing_inspect-0.8.0-py3-none-any.whl (8.7 kB)\n",
            "Collecting marshmallow-enum<2.0.0,>=1.5.1\n",
            "  Downloading marshmallow_enum-1.5.1-py2.py3-none-any.whl (4.2 kB)\n",
            "Requirement already satisfied: six>=1.5 in /usr/local/lib/python3.8/dist-packages (from python-dateutil>=2.5.3->pinecone-client) (1.15.0)\n",
            "Requirement already satisfied: idna<3,>=2.5 in /usr/local/lib/python3.8/dist-packages (from requests<3,>=2->langchain) (2.10)\n",
            "Requirement already satisfied: certifi>=2017.4.17 in /usr/local/lib/python3.8/dist-packages (from requests<3,>=2->langchain) (2022.12.7)\n",
            "Requirement already satisfied: chardet<5,>=3.0.2 in /usr/local/lib/python3.8/dist-packages (from requests<3,>=2->langchain) (4.0.0)\n",
            "Requirement already satisfied: greenlet!=0.4.17 in /usr/local/lib/python3.8/dist-packages (from SQLAlchemy<2,>=1->langchain) (2.0.1)\n",
            "Requirement already satisfied: packaging>=17.0 in /usr/local/lib/python3.8/dist-packages (from marshmallow<4.0.0,>=3.3.0->dataclasses-json<0.6.0,>=0.5.7->langchain) (21.3)\n",
            "Collecting mypy-extensions>=0.3.0\n",
            "  Downloading mypy_extensions-0.4.3-py2.py3-none-any.whl (4.5 kB)\n",
            "Requirement already satisfied: pyparsing!=3.0.5,>=2.0.2 in /usr/local/lib/python3.8/dist-packages (from packaging>=17.0->marshmallow<4.0.0,>=3.3.0->dataclasses-json<0.6.0,>=0.5.7->langchain) (3.0.9)\n",
            "Building wheels for collected packages: cohere\n",
            "  Building wheel for cohere (setup.py) ... \u001b[?25l\u001b[?25hdone\n",
            "  Created wheel for cohere: filename=cohere-3.2.6-cp38-cp38-linux_x86_64.whl size=14392 sha256=abdf46b6e5a2bd24535d1fb22eb7e6ed174ac2f3ccf4b6dc564c7882503d5184\n",
            "  Stored in directory: /root/.cache/pip/wheels/3f/f2/7b/6a2486838e5176c43fcd17eb6c07d4705d3d15e539394f7cae\n",
            "Successfully built cohere\n",
            "Installing collected packages: mypy-extensions, urllib3, typing-inspect, loguru, pinecone-client, marshmallow-enum, cohere, dataclasses-json, langchain\n",
            "  Attempting uninstall: urllib3\n",
            "    Found existing installation: urllib3 1.24.3\n",
            "    Uninstalling urllib3-1.24.3:\n",
            "      Successfully uninstalled urllib3-1.24.3\n",
            "Successfully installed cohere-3.2.6 dataclasses-json-0.5.7 langchain-0.0.75 loguru-0.6.0 marshmallow-enum-1.5.1 mypy-extensions-0.4.3 pinecone-client-2.1.0 typing-inspect-0.8.0 urllib3-1.26.14\n"
          ]
        }
      ],
      "source": [
        "!pip install langchain cohere pinecone-client"
      ]
    },
    {
      "cell_type": "code",
      "source": [
        "api_key = 'cf643833-3fee-4700-9ac7-f0f90635a544'\n",
        "cohere_api_key = 'use-your-api-key'"
      ],
      "metadata": {
        "id": "Tl_9bAkpNKoo"
      },
      "execution_count": 2,
      "outputs": []
    },
    {
      "cell_type": "code",
      "source": [
        "import cohere\n",
        "co = cohere.Client(cohere_api_key)"
      ],
      "metadata": {
        "id": "kR73DZVONLFo"
      },
      "execution_count": 3,
      "outputs": []
    },
    {
      "cell_type": "code",
      "source": [
        "import pinecone\n",
        "\n",
        "index_name = 'tafsir'\n",
        "pinecone.init(api_key, environment='us-west1-gcp')"
      ],
      "metadata": {
        "id": "uZejWl-CNNWJ"
      },
      "execution_count": 4,
      "outputs": []
    },
    {
      "cell_type": "code",
      "source": [
        "# connect to index\n",
        "index = pinecone.Index(index_name)"
      ],
      "metadata": {
        "id": "ueoXy2oyNTNI"
      },
      "execution_count": 5,
      "outputs": []
    },
    {
      "cell_type": "code",
      "source": [
        "limit = 1600\n",
        "\n",
        "def retrieve(query):\n",
        "    xq = co.embed(\n",
        "        texts=[query],\n",
        "        model='multilingual-22-12',\n",
        "        truncate='NONE'\n",
        "    ).embeddings\n",
        "    # search pinecone index for context passage with the answer\n",
        "    xc = index.query(xq, top_k=3, include_metadata=True)\n",
        "    contexts = [\n",
        "        x['metadata']['text'] for x in xc['matches']\n",
        "    ]\n",
        "\n",
        "    # build our prompt with the retrieved contexts included\n",
        "    prompt_start = (\n",
        "        \"Answer the Query based on the contexts, if it's not in the contexts say 'I don't know the answer'. \\n\\n\"+\n",
        "        \"Context:\\n\"\n",
        "    )\n",
        "    prompt_end = (\n",
        "        f\"\\n\\nQuery: {query}\\nAnswer in the language of Query, if Query is in English Answer in English.\"\n",
        "    )\n",
        "    # append contexts until hitting limit\n",
        "    for i in range(1, len(contexts)):\n",
        "        if len(\"\\n\\n---\\n\\n\".join(contexts[:i])) >= limit:\n",
        "            prompt = (\n",
        "                prompt_start +\n",
        "                \"\\n\\n---\\n\\n\".join(contexts[:i-1]) +\n",
        "                prompt_end\n",
        "            )\n",
        "            break\n",
        "        elif i == len(contexts)-1:\n",
        "            prompt = (\n",
        "                prompt_start +\n",
        "                \"\\n\\n---\\n\\n\".join(contexts) +\n",
        "                prompt_end\n",
        "            )\n",
        "    return prompt"
      ],
      "metadata": {
        "id": "sqZoC2czNYLb"
      },
      "execution_count": 16,
      "outputs": []
    },
    {
      "cell_type": "code",
      "source": [
        "query = \"What does quran say about believers?\"\n",
        "query_with_contexts = retrieve(query)\n",
        "query_with_contexts"
      ],
      "metadata": {
        "colab": {
          "base_uri": "https://localhost:8080/",
          "height": 139
        },
        "id": "pRCtvhZ-NgOk",
        "outputId": "b47d8b32-9522-4b88-d35c-bca87bb778c8"
      },
      "execution_count": 17,
      "outputs": [
        {
          "output_type": "execute_result",
          "data": {
            "text/plain": [
              "\"Answer the Query based on the contexts, if it's not in the contexts say 'I don't know the answer'. \\n\\nContext:\\nقال تعالى -موبخا لهم على إقامتهم على ما هم عليه من الكفر والنفاق-: { أَوَلا يَرَوْنَ أَنَّهُمْ يُفْتَنُونَ فِي كُلِّ عَامٍ مَرَّةً أَوْ مَرَّتَيْنِ } بما يصيبهم من البلايا والأمراض، وبما يبتلون من الأوامر الإلهية التي يراد بها اختبارهم.\\n{ ثُمَّ لا يَتُوبُونَ } عما هم عليه من الشر { وَلا هُمْ يَذَّكَّرُونَ } ما ينفعهم، فيفعلونه، وما يضرهم، فيتركونه.\\nفالله تعالى يبتليهم -كما هي سنته في سائر الأمم- بالسراء والضراء وبالأوامر والنواهي ليرجعوا إليه، ثم لا يتوبون ولا هم يذكرون.\\nوفي هذه الآيات دليل على أن الإيمان يزيد وينقص، وأنه ينبغي للمؤمن، أن يتفقد إيمانه ويتعاهده، فيجدده وينميه، ليكون دائما في صعود.\\n(1/356)\\n\\n---\\n\\nثم ذكر عباده المؤمنين بما أنزل عليهم من كتابه، الذي أنزله على رسوله محمد صلى الله عليه وسلم، ليخرج الخلق من ظلمات الكفر والجهل والمعصية، إلى نور العلم والإيمان والطاعة، فمن الناس، من آمن به، ومنهم من لم يؤمن [به]، { وَمَنْ يُؤْمِنْ بِاللَّهِ وَيَعْمَلْ صَالِحًا } من الواجبات والمستحبات. { يُدْخِلْهُ جَنَّاتٍ تَجْرِي مِنْ تَحْتِهَا الأنْهَارُ } فيها من النعيم المقيم، ما لا عين رأت، ولا أذن سمعت، ولا خطر على قلب بشر، { خَالِدِينَ فِيهَا أَبَدًا قَدْ أَحْسَنَ اللَّهُ لَهُ رِزْقًا } [أي:] ومن لم يؤمن بالله ورسوله، فأولئك أصحاب النار، هم فيها خالدون.\\n__________\\n(1) في ب: تغن عنهم.\\n(1/872)\\n\\n---\\n\\nالَّذِينَ آَتَيْنَاهُمُ الْكِتَابَ يَتْلُونَهُ حَقَّ تِلَاوَتِهِ أُولَئِكَ يُؤْمِنُونَ بِهِ وَمَنْ يَكْفُرْ بِهِ فَأُولَئِكَ هُمُ الْخَاسِرُونَ (121) يَا بَنِي إِسْرَائِيلَ اذْكُرُوا نِعْمَتِيَ الَّتِي أَنْعَمْتُ عَلَيْكُمْ وَأَنِّي فَضَّلْتُكُمْ عَلَى الْعَالَمِينَ (122) وَاتَّقُوا يَوْمًا لَا تَجْزِي نَفْسٌ عَنْ نَفْسٍ شَيْئًا وَلَا يُقْبَلُ مِنْهَا عَدْلٌ وَلَا تَنْفَعُهَا شَفَاعَةٌ وَلَا هُمْ يُنْصَرُونَ (123)\\nثم قال: { الَّذِينَ آتَيْنَاهُمُ الْكِتَابَ يَتْلُونَهُ حَقَّ تِلاوَتِهِ أُولَئِكَ يُؤْمِنُونَ بِهِ وَمَنْ يَكْفُرْ بِهِ فَأُولَئِكَ هُمُ الْخَاسِرُونَ * يَا بَنِي إِسْرَائِيلَ اذْكُرُوا نِعْمَتِيَ الَّتِي أَنْعَمْتُ عَلَيْكُمْ وَأَنِّي فَضَّلْتُكُمْ عَلَى الْعَالَمِينَ * وَاتَّقُوا يَوْمًا لا تَجْزِي نَفْسٌ عَنْ نَفْسٍ شَيْئًا وَلا يُقْبَلُ مِنْهَا عَدْلٌ وَلا تَنْفَعُهَا شَفَاعَةٌ وَلا هُمْ يُنْصَرُونَ } .\\nيخبر تعالى أن الذين آتاهم الكتاب، ومنَّ عليهم به منة مطلقة، أنهم { يَتْلُونَهُ حَقَّ تِلاوَتِهِ } أي: يتبعونه حق اتباعه، والتلاوة: الاتباع، فيحلون حلاله، ويحرمون حرامه، ويعملون بمحكمه، ويؤمنون بمتشابهه، وهؤلاء هم السعداء من أهل الكتاب، الذين عرفوا نعمة الله وشكروها،\\nوآمنوا بكل الرسل، ولم يفرقوا بين أحد منهم.\\nفهؤلاء، هم المؤمنون حقا، لا من قال منهم: { نؤمن بما أنزل علينا ويكفرون بما وراءه } .\\nولهذا توعدهم بقوله { وَمَنْ يَكْفُرْ بِهِ فَأُولَئِكَ هُمُ الْخَاسِرُونَ } وقد تقدم تفسير الآية التي بعدها.\\n(1/65)\\n\\nQuery: What does quran say about believers?\\nAnswer in the language of Query, if Query is in English Answer in English.\""
            ],
            "application/vnd.google.colaboratory.intrinsic+json": {
              "type": "string"
            }
          },
          "metadata": {},
          "execution_count": 17
        }
      ]
    },
    {
      "cell_type": "code",
      "source": [
        "!pip install -qU openai "
      ],
      "metadata": {
        "id": "5Uzg_ZfpNk88"
      },
      "execution_count": 18,
      "outputs": []
    },
    {
      "cell_type": "code",
      "source": [
        "import openai\n",
        "\n",
        "# get API key from top-right dropdown on OpenAI website\n",
        "openai.api_key = \"use-your-api-key\""
      ],
      "metadata": {
        "id": "STlaLhe4mI2L"
      },
      "execution_count": 19,
      "outputs": []
    },
    {
      "cell_type": "code",
      "source": [
        "def complete(prompt):\n",
        "    # query text-davinci-003\n",
        "    res = openai.Completion.create(\n",
        "        engine='text-davinci-003',\n",
        "        prompt=prompt,\n",
        "        temperature=0,\n",
        "        max_tokens=1000,\n",
        "        top_p=1,\n",
        "        frequency_penalty=0,\n",
        "        presence_penalty=0,\n",
        "        stop=None\n",
        "    )\n",
        "    return res['choices'][0]['text'].strip()"
      ],
      "metadata": {
        "id": "k2MDEp-NNufB"
      },
      "execution_count": 22,
      "outputs": []
    },
    {
      "cell_type": "code",
      "source": [
        "complete(query_with_contexts)"
      ],
      "metadata": {
        "colab": {
          "base_uri": "https://localhost:8080/",
          "height": 52
        },
        "id": "CgtOPqPmN1l_",
        "outputId": "c0666a62-3316-4c9a-ca23-c94c62fb875d"
      },
      "execution_count": 23,
      "outputs": [
        {
          "output_type": "execute_result",
          "data": {
            "text/plain": [
              "'القرآن يقول أن المؤمنين يؤمنون بالكتاب الذي أنزل عليهم حقَّ تِلاوَتِهِ، ويشكرون نعمة الله التي أنعم عليهم، ويتقون يوما لا يقبل من الناس عدل ولا تنفعهم شفاعة.'"
            ],
            "application/vnd.google.colaboratory.intrinsic+json": {
              "type": "string"
            }
          },
          "metadata": {},
          "execution_count": 23
        }
      ]
    },
    {
      "cell_type": "code",
      "source": [],
      "metadata": {
        "id": "Gee7zy5IN4UY"
      },
      "execution_count": null,
      "outputs": []
    }
  ]
}